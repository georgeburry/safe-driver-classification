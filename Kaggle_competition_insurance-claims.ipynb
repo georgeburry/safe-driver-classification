{
 "cells": [
  {
   "cell_type": "markdown",
   "metadata": {},
   "source": [
    "# KAGGLE COMPETITION: Porto Seguro’s Safe Driver Prediction"
   ]
  },
  {
   "cell_type": "markdown",
   "metadata": {},
   "source": [
    "## Predict if a driver will file an insurance claim next year."
   ]
  },
  {
   "cell_type": "markdown",
   "metadata": {},
   "source": [
    "Nothing ruins the thrill of buying a brand new car more quickly than seeing your new insurance bill. The sting’s even more painful when you know you’re a good driver. It doesn’t seem fair that you have to pay so much if you’ve been cautious on the road for years.\n",
    "\n",
    "Porto Seguro, one of Brazil’s largest auto and homeowner insurance companies, completely agrees. Inaccuracies in car insurance company’s claim predictions raise the cost of insurance for good drivers and reduce the price for bad ones.\n",
    "\n",
    "In this competition, you’re challenged to build a model that predicts the probability that a driver will initiate an auto insurance claim in the next year. While Porto Seguro has used machine learning for the past 20 years, they’re looking to Kaggle’s machine learning community to explore new, more powerful methods. A more accurate prediction will allow them to further tailor their prices, and hopefully make auto insurance coverage more accessible to more drivers."
   ]
  },
  {
   "cell_type": "markdown",
   "metadata": {},
   "source": [
    "### Imports"
   ]
  },
  {
   "cell_type": "code",
   "execution_count": 1,
   "metadata": {},
   "outputs": [
    {
     "data": {
      "text/html": [
       "<script>requirejs.config({paths: { 'plotly': ['https://cdn.plot.ly/plotly-latest.min']},});if(!window.Plotly) {{require(['plotly'],function(plotly) {window.Plotly=plotly;});}}</script>"
      ],
      "text/vnd.plotly.v1+html": [
       "<script>requirejs.config({paths: { 'plotly': ['https://cdn.plot.ly/plotly-latest.min']},});if(!window.Plotly) {{require(['plotly'],function(plotly) {window.Plotly=plotly;});}}</script>"
      ]
     },
     "metadata": {},
     "output_type": "display_data"
    }
   ],
   "source": [
    "import pandas as pd\n",
    "import numpy as np\n",
    "import matplotlib.pyplot as plt\n",
    "\n",
    "import seaborn as sns\n",
    "\n",
    "from sklearn.ensemble import RandomForestClassifier\n",
    "\n",
    "from sklearn.externals import joblib\n",
    "\n",
    "import plotly.offline as py\n",
    "py.init_notebook_mode(connected=True)\n",
    "import plotly.graph_objs as go\n",
    "import plotly.tools as tls\n",
    "\n",
    "from scipy.stats import pointbiserialr\n",
    "from scipy.stats import chi2_contingency\n",
    "\n",
    "from sklearn.preprocessing import MinMaxScaler\n",
    "\n",
    "from sklearn.model_selection import train_test_split \n",
    "from sklearn.model_selection import KFold, GridSearchCV\n",
    "\n",
    "from sklearn.linear_model import LogisticRegression \n",
    "from sklearn.ensemble import RandomForestClassifier\n",
    "from xgboost import XGBClassifier\n",
    "\n",
    "from sklearn.metrics import classification_report\n",
    "\n",
    "import scikitplot as skplt"
   ]
  },
  {
   "cell_type": "markdown",
   "metadata": {},
   "source": [
    "Displaying a maximum of five decimal places for better clarity."
   ]
  },
  {
   "cell_type": "code",
   "execution_count": 2,
   "metadata": {},
   "outputs": [],
   "source": [
    "pd.options.display.float_format = '{:.5f}'.format"
   ]
  },
  {
   "cell_type": "markdown",
   "metadata": {},
   "source": [
    "### Load in data"
   ]
  },
  {
   "cell_type": "code",
   "execution_count": 3,
   "metadata": {},
   "outputs": [
    {
     "data": {
      "text/html": [
       "<div>\n",
       "<style scoped>\n",
       "    .dataframe tbody tr th:only-of-type {\n",
       "        vertical-align: middle;\n",
       "    }\n",
       "\n",
       "    .dataframe tbody tr th {\n",
       "        vertical-align: top;\n",
       "    }\n",
       "\n",
       "    .dataframe thead th {\n",
       "        text-align: right;\n",
       "    }\n",
       "</style>\n",
       "<table border=\"1\" class=\"dataframe\">\n",
       "  <thead>\n",
       "    <tr style=\"text-align: right;\">\n",
       "      <th></th>\n",
       "      <th>id</th>\n",
       "      <th>target</th>\n",
       "      <th>ps_ind_01</th>\n",
       "      <th>ps_ind_02_cat</th>\n",
       "      <th>ps_ind_03</th>\n",
       "      <th>ps_ind_04_cat</th>\n",
       "      <th>ps_ind_05_cat</th>\n",
       "      <th>ps_ind_06_bin</th>\n",
       "      <th>ps_ind_07_bin</th>\n",
       "      <th>ps_ind_08_bin</th>\n",
       "      <th>...</th>\n",
       "      <th>ps_calc_11</th>\n",
       "      <th>ps_calc_12</th>\n",
       "      <th>ps_calc_13</th>\n",
       "      <th>ps_calc_14</th>\n",
       "      <th>ps_calc_15_bin</th>\n",
       "      <th>ps_calc_16_bin</th>\n",
       "      <th>ps_calc_17_bin</th>\n",
       "      <th>ps_calc_18_bin</th>\n",
       "      <th>ps_calc_19_bin</th>\n",
       "      <th>ps_calc_20_bin</th>\n",
       "    </tr>\n",
       "  </thead>\n",
       "  <tbody>\n",
       "    <tr>\n",
       "      <th>0</th>\n",
       "      <td>7</td>\n",
       "      <td>0</td>\n",
       "      <td>2</td>\n",
       "      <td>2</td>\n",
       "      <td>5</td>\n",
       "      <td>1</td>\n",
       "      <td>0</td>\n",
       "      <td>0</td>\n",
       "      <td>1</td>\n",
       "      <td>0</td>\n",
       "      <td>...</td>\n",
       "      <td>9</td>\n",
       "      <td>1</td>\n",
       "      <td>5</td>\n",
       "      <td>8</td>\n",
       "      <td>0</td>\n",
       "      <td>1</td>\n",
       "      <td>1</td>\n",
       "      <td>0</td>\n",
       "      <td>0</td>\n",
       "      <td>1</td>\n",
       "    </tr>\n",
       "    <tr>\n",
       "      <th>1</th>\n",
       "      <td>9</td>\n",
       "      <td>0</td>\n",
       "      <td>1</td>\n",
       "      <td>1</td>\n",
       "      <td>7</td>\n",
       "      <td>0</td>\n",
       "      <td>0</td>\n",
       "      <td>0</td>\n",
       "      <td>0</td>\n",
       "      <td>1</td>\n",
       "      <td>...</td>\n",
       "      <td>3</td>\n",
       "      <td>1</td>\n",
       "      <td>1</td>\n",
       "      <td>9</td>\n",
       "      <td>0</td>\n",
       "      <td>1</td>\n",
       "      <td>1</td>\n",
       "      <td>0</td>\n",
       "      <td>1</td>\n",
       "      <td>0</td>\n",
       "    </tr>\n",
       "    <tr>\n",
       "      <th>2</th>\n",
       "      <td>13</td>\n",
       "      <td>0</td>\n",
       "      <td>5</td>\n",
       "      <td>4</td>\n",
       "      <td>9</td>\n",
       "      <td>1</td>\n",
       "      <td>0</td>\n",
       "      <td>0</td>\n",
       "      <td>0</td>\n",
       "      <td>1</td>\n",
       "      <td>...</td>\n",
       "      <td>4</td>\n",
       "      <td>2</td>\n",
       "      <td>7</td>\n",
       "      <td>7</td>\n",
       "      <td>0</td>\n",
       "      <td>1</td>\n",
       "      <td>1</td>\n",
       "      <td>0</td>\n",
       "      <td>1</td>\n",
       "      <td>0</td>\n",
       "    </tr>\n",
       "    <tr>\n",
       "      <th>3</th>\n",
       "      <td>16</td>\n",
       "      <td>0</td>\n",
       "      <td>0</td>\n",
       "      <td>1</td>\n",
       "      <td>2</td>\n",
       "      <td>0</td>\n",
       "      <td>0</td>\n",
       "      <td>1</td>\n",
       "      <td>0</td>\n",
       "      <td>0</td>\n",
       "      <td>...</td>\n",
       "      <td>2</td>\n",
       "      <td>2</td>\n",
       "      <td>4</td>\n",
       "      <td>9</td>\n",
       "      <td>0</td>\n",
       "      <td>0</td>\n",
       "      <td>0</td>\n",
       "      <td>0</td>\n",
       "      <td>0</td>\n",
       "      <td>0</td>\n",
       "    </tr>\n",
       "    <tr>\n",
       "      <th>4</th>\n",
       "      <td>17</td>\n",
       "      <td>0</td>\n",
       "      <td>0</td>\n",
       "      <td>2</td>\n",
       "      <td>0</td>\n",
       "      <td>1</td>\n",
       "      <td>0</td>\n",
       "      <td>1</td>\n",
       "      <td>0</td>\n",
       "      <td>0</td>\n",
       "      <td>...</td>\n",
       "      <td>3</td>\n",
       "      <td>1</td>\n",
       "      <td>1</td>\n",
       "      <td>3</td>\n",
       "      <td>0</td>\n",
       "      <td>0</td>\n",
       "      <td>0</td>\n",
       "      <td>1</td>\n",
       "      <td>1</td>\n",
       "      <td>0</td>\n",
       "    </tr>\n",
       "  </tbody>\n",
       "</table>\n",
       "<p>5 rows × 59 columns</p>\n",
       "</div>"
      ],
      "text/plain": [
       "   id  target  ps_ind_01  ps_ind_02_cat  ps_ind_03  ps_ind_04_cat  \\\n",
       "0   7       0          2              2          5              1   \n",
       "1   9       0          1              1          7              0   \n",
       "2  13       0          5              4          9              1   \n",
       "3  16       0          0              1          2              0   \n",
       "4  17       0          0              2          0              1   \n",
       "\n",
       "   ps_ind_05_cat  ps_ind_06_bin  ps_ind_07_bin  ps_ind_08_bin       ...        \\\n",
       "0              0              0              1              0       ...         \n",
       "1              0              0              0              1       ...         \n",
       "2              0              0              0              1       ...         \n",
       "3              0              1              0              0       ...         \n",
       "4              0              1              0              0       ...         \n",
       "\n",
       "   ps_calc_11  ps_calc_12  ps_calc_13  ps_calc_14  ps_calc_15_bin  \\\n",
       "0           9           1           5           8               0   \n",
       "1           3           1           1           9               0   \n",
       "2           4           2           7           7               0   \n",
       "3           2           2           4           9               0   \n",
       "4           3           1           1           3               0   \n",
       "\n",
       "   ps_calc_16_bin  ps_calc_17_bin  ps_calc_18_bin  ps_calc_19_bin  \\\n",
       "0               1               1               0               0   \n",
       "1               1               1               0               1   \n",
       "2               1               1               0               1   \n",
       "3               0               0               0               0   \n",
       "4               0               0               1               1   \n",
       "\n",
       "   ps_calc_20_bin  \n",
       "0               1  \n",
       "1               0  \n",
       "2               0  \n",
       "3               0  \n",
       "4               0  \n",
       "\n",
       "[5 rows x 59 columns]"
      ]
     },
     "execution_count": 3,
     "metadata": {},
     "output_type": "execute_result"
    }
   ],
   "source": [
    "df = pd.read_csv(\"train.csv\")\n",
    "df.head()"
   ]
  },
  {
   "cell_type": "markdown",
   "metadata": {},
   "source": [
    "Number of examples:"
   ]
  },
  {
   "cell_type": "code",
   "execution_count": 66,
   "metadata": {},
   "outputs": [
    {
     "data": {
      "text/plain": [
       "595212"
      ]
     },
     "execution_count": 66,
     "metadata": {},
     "output_type": "execute_result"
    }
   ],
   "source": [
    "rows = len(df)\n",
    "rows"
   ]
  },
  {
   "cell_type": "markdown",
   "metadata": {},
   "source": [
    "### Seperating features\n",
    "The dataset includes numerical, categorical and binary features. The numerical features consist of ordinal and float values. Each feature type needs to be treated separately, so first of all we can create three lists of columns for the three feature types."
   ]
  },
  {
   "cell_type": "code",
   "execution_count": 4,
   "metadata": {},
   "outputs": [
    {
     "name": "stdout",
     "output_type": "stream",
     "text": [
      "--- Numerical features --- :  \n",
      " ['ps_ind_01', 'ps_ind_03', 'ps_ind_14', 'ps_ind_15', 'ps_reg_01', 'ps_reg_02', 'ps_reg_03', 'ps_car_11', 'ps_car_12', 'ps_car_13', 'ps_car_14', 'ps_car_15', 'ps_calc_01', 'ps_calc_02', 'ps_calc_03', 'ps_calc_04', 'ps_calc_05', 'ps_calc_06', 'ps_calc_07', 'ps_calc_08', 'ps_calc_09', 'ps_calc_10', 'ps_calc_11', 'ps_calc_12', 'ps_calc_13', 'ps_calc_14'] \n",
      "\n",
      "--- Categorical features --- :  \n",
      " ['ps_ind_02_cat', 'ps_ind_04_cat', 'ps_ind_05_cat', 'ps_car_01_cat', 'ps_car_02_cat', 'ps_car_03_cat', 'ps_car_04_cat', 'ps_car_05_cat', 'ps_car_06_cat', 'ps_car_07_cat', 'ps_car_08_cat', 'ps_car_09_cat', 'ps_car_10_cat', 'ps_car_11_cat'] \n",
      "\n",
      "--- Binary features --- :  \n",
      " ['ps_ind_06_bin', 'ps_ind_07_bin', 'ps_ind_08_bin', 'ps_ind_09_bin', 'ps_ind_10_bin', 'ps_ind_11_bin', 'ps_ind_12_bin', 'ps_ind_13_bin', 'ps_ind_16_bin', 'ps_ind_17_bin', 'ps_ind_18_bin', 'ps_calc_15_bin', 'ps_calc_16_bin', 'ps_calc_17_bin', 'ps_calc_18_bin', 'ps_calc_19_bin', 'ps_calc_20_bin'] \n",
      "\n"
     ]
    }
   ],
   "source": [
    "# separate col names into categories\n",
    "cols = df.columns\n",
    "num_feats, cat_feats, bin_feats = [], [], []\n",
    "\n",
    "for col in cols:\n",
    "    if col == 'id' or col == 'target':\n",
    "        pass\n",
    "    elif '_cat' in col:\n",
    "        cat_feats.append(col)\n",
    "    elif '_bin' in col:\n",
    "        bin_feats.append(col)\n",
    "    else:\n",
    "        num_feats.append(col)\n",
    "        \n",
    "print('--- Numerical features --- : ', '\\n', num_feats, '\\n')\n",
    "print('--- Categorical features --- : ', '\\n', cat_feats, '\\n')\n",
    "print('--- Binary features --- : ', '\\n', bin_feats, '\\n')"
   ]
  },
  {
   "cell_type": "markdown",
   "metadata": {},
   "source": [
    "### Data cleansing\n",
    "The next step is to check how many missing values there are for each feature type. As a general rule, I like to eliminate features where more than one half of the values are missing."
   ]
  },
  {
   "cell_type": "code",
   "execution_count": 5,
   "metadata": {},
   "outputs": [],
   "source": [
    "# Although it uses more memory, I prefer to create a new copy of the dataframe for each section\n",
    "df_cleaned = df.copy()\n",
    "\n",
    "# I will also create copies for the feature lists\n",
    "num_feats_cleaned = num_feats.copy()\n",
    "cat_feats_cleaned = cat_feats.copy()\n",
    "bin_feats_cleaned = bin_feats.copy()"
   ]
  },
  {
   "cell_type": "markdown",
   "metadata": {},
   "source": [
    "#### Numerical features\n",
    "Let's check for missing values (-1) in the numerical feature columns."
   ]
  },
  {
   "cell_type": "code",
   "execution_count": 6,
   "metadata": {},
   "outputs": [
    {
     "name": "stdout",
     "output_type": "stream",
     "text": [
      "[]\n"
     ]
    }
   ],
   "source": [
    "# I would like to eliminate any columns that consist of more than one half missing values (-1)\n",
    "num_many_missing = df_cleaned[num_feats_cleaned][df == -1].count() / len(df) > 0.50 # more than 50% missing values\n",
    "num_many_missing = num_many_missing.index[num_many_missing == True].tolist()\n",
    "print(num_many_missing)"
   ]
  },
  {
   "cell_type": "markdown",
   "metadata": {},
   "source": [
    "No columns were returned. \n",
    "We can also have a look at exactly how many are missing in the applicable columns."
   ]
  },
  {
   "cell_type": "code",
   "execution_count": 9,
   "metadata": {},
   "outputs": [
    {
     "name": "stdout",
     "output_type": "stream",
     "text": [
      "Column   Missing count   Missing ratio\n",
      "ps_reg_03    107772    0.181\n",
      "ps_car_11    5    0.000\n",
      "ps_car_12    1    0.000\n",
      "ps_car_14    42620    0.072\n"
     ]
    }
   ],
   "source": [
    "counts = df_cleaned[num_feats_cleaned][df == -1].count()\n",
    "cols_with_missing = counts[counts.values > 0]\n",
    "print('Column  ', 'Missing count  ', 'Missing ratio')\n",
    "for col, count in zip(cols_with_missing.index, cols_with_missing.values):\n",
    "    print(col, '  ', count, '  ', '{:.3f}'.format(count / len(df)))"
   ]
  },
  {
   "cell_type": "markdown",
   "metadata": {},
   "source": [
    "We can substitute the missing values with the applicable column mean. This will limit their impact on the results."
   ]
  },
  {
   "cell_type": "code",
   "execution_count": 10,
   "metadata": {},
   "outputs": [
    {
     "name": "stderr",
     "output_type": "stream",
     "text": [
      "/Users/george/anaconda3/lib/python3.6/site-packages/ipykernel_launcher.py:3: SettingWithCopyWarning:\n",
      "\n",
      "\n",
      "A value is trying to be set on a copy of a slice from a DataFrame\n",
      "\n",
      "See the caveats in the documentation: http://pandas.pydata.org/pandas-docs/stable/indexing.html#indexing-view-versus-copy\n",
      "\n",
      "/Users/george/anaconda3/lib/python3.6/site-packages/ipykernel_launcher.py:3: SettingWithCopyWarning:\n",
      "\n",
      "\n",
      "A value is trying to be set on a copy of a slice from a DataFrame\n",
      "\n",
      "See the caveats in the documentation: http://pandas.pydata.org/pandas-docs/stable/indexing.html#indexing-view-versus-copy\n",
      "\n"
     ]
    },
    {
     "data": {
      "text/plain": [
       "0"
      ]
     },
     "execution_count": 10,
     "metadata": {},
     "output_type": "execute_result"
    }
   ],
   "source": [
    "# The few missing values that remain will be substituted with the column mean\n",
    "for col in num_feats_cleaned:\n",
    "    df_cleaned[col][df_cleaned[col] == -1] = df_cleaned[col].mean()\n",
    "# Check that no missing values remain\n",
    "(df_cleaned[num_feats_cleaned] == -1).sum().sum()   # sums instances of true for each column and then sums across columns"
   ]
  },
  {
   "cell_type": "markdown",
   "metadata": {},
   "source": [
    "We can be satisfied that no missing values remain."
   ]
  },
  {
   "cell_type": "markdown",
   "metadata": {},
   "source": [
    "#### Categorical features\n",
    "I would like to eliminate any columns that consist of more than one-half missing values (-1). If features contain a relatively small proportion of missing values, these values can be converted to dummy variables and may be a useful part of the analysis.\n"
   ]
  },
  {
   "cell_type": "code",
   "execution_count": 10,
   "metadata": {},
   "outputs": [
    {
     "name": "stdout",
     "output_type": "stream",
     "text": [
      "['ps_car_03_cat']\n"
     ]
    }
   ],
   "source": [
    "cat_many_missing = df_cleaned[cat_feats_cleaned][df == -1].count() / len(df) > 0.5\n",
    "cat_many_missing = cat_many_missing.index[cat_many_missing == True].tolist()\n",
    "print(cat_many_missing)"
   ]
  },
  {
   "cell_type": "code",
   "execution_count": 11,
   "metadata": {},
   "outputs": [
    {
     "name": "stdout",
     "output_type": "stream",
     "text": [
      "Column   Missing count   Missing ratio\n",
      "ps_ind_02_cat    216    0.000\n",
      "ps_ind_04_cat    83    0.000\n",
      "ps_ind_05_cat    5809    0.010\n",
      "ps_car_01_cat    107    0.000\n",
      "ps_car_02_cat    5    0.000\n",
      "ps_car_03_cat    411231    0.691\n",
      "ps_car_05_cat    266551    0.448\n",
      "ps_car_07_cat    11489    0.019\n",
      "ps_car_09_cat    569    0.001\n"
     ]
    }
   ],
   "source": [
    "# We can also have a look exactly how many are missing in the applicable columns\n",
    "counts = df_cleaned[cat_feats_cleaned][df == -1].count()\n",
    "cols_with_missing = counts[counts.values > 0]\n",
    "print('Column  ', 'Missing count  ', 'Missing ratio')\n",
    "for col, count in zip(cols_with_missing.index, cols_with_missing.values):\n",
    "    print(col, '  ', count, '  ', '{:.3f}'.format(count / len(df)))"
   ]
  },
  {
   "cell_type": "markdown",
   "metadata": {},
   "source": [
    "Now I will remove the one column that I identified."
   ]
  },
  {
   "cell_type": "code",
   "execution_count": 12,
   "metadata": {},
   "outputs": [],
   "source": [
    "df_cleaned.drop(columns=cat_many_missing, inplace=True)"
   ]
  },
  {
   "cell_type": "code",
   "execution_count": 13,
   "metadata": {},
   "outputs": [],
   "source": [
    "# The cat_feats list needs to be updated\n",
    "for i in cat_many_missing: cat_feats_cleaned.remove(i)"
   ]
  },
  {
   "cell_type": "markdown",
   "metadata": {},
   "source": [
    "Remaing missing values will be converted to dummy variables during the feature engineering stage."
   ]
  },
  {
   "cell_type": "markdown",
   "metadata": {},
   "source": [
    "#### Binary features\n",
    "Let's now check for missing values among the binary features."
   ]
  },
  {
   "cell_type": "code",
   "execution_count": 14,
   "metadata": {},
   "outputs": [
    {
     "name": "stdout",
     "output_type": "stream",
     "text": [
      "[]\n"
     ]
    }
   ],
   "source": [
    "bin_many_missing = df_cleaned[bin_feats_cleaned][df == -1].count() / len(df) > 0.5\n",
    "bin_many_missing = bin_many_missing.index[bin_many_missing == True].tolist()\n",
    "print(bin_many_missing)"
   ]
  },
  {
   "cell_type": "markdown",
   "metadata": {},
   "source": [
    "We can be sure that there are no features with more than half of there values missing. Let's just make sure that no values at all are missing for the binary features."
   ]
  },
  {
   "cell_type": "code",
   "execution_count": 15,
   "metadata": {},
   "outputs": [
    {
     "data": {
      "text/plain": [
       "Series([], dtype: int64)"
      ]
     },
     "execution_count": 15,
     "metadata": {},
     "output_type": "execute_result"
    }
   ],
   "source": [
    "# Lets check for missing values, in case any exist\n",
    "counts = df_cleaned[bin_feats_cleaned][df == -1].count()\n",
    "cols_with_missing = counts[counts.values > 0]\n",
    "cols_with_missing"
   ]
  },
  {
   "cell_type": "markdown",
   "metadata": {},
   "source": [
    "### Exploratory data analysis\n",
    "In this section, I will first explore the correlation between numerical features and then I will explore the correlation between each feature and the target variable."
   ]
  },
  {
   "cell_type": "markdown",
   "metadata": {},
   "source": [
    "#### Numerical features of float type"
   ]
  },
  {
   "cell_type": "code",
   "execution_count": 27,
   "metadata": {},
   "outputs": [
    {
     "data": {
      "text/plain": [
       "<matplotlib.axes._subplots.AxesSubplot at 0x1a0f368400>"
      ]
     },
     "execution_count": 27,
     "metadata": {},
     "output_type": "execute_result"
    },
    {
     "data": {
      "image/png": "[encoded data removed]",
      "text/plain": [
       "<matplotlib.figure.Figure at 0x1a14a40588>"
      ]
     },
     "metadata": {},
     "output_type": "display_data"
    }
   ],
   "source": [
    "# First of all, we only want to select float values\n",
    "df_float = df_cleaned.select_dtypes(['float64'])\n",
    "df_corr = df_float.corr().abs()\n",
    "# Setting a filter for values of 1 or less than 0.5\n",
    "filter = (df_corr == 1) | (df_corr < 0.5)\n",
    "# We can filter out values by setting them to 0\n",
    "df_corr[filter] = 0\n",
    "df_corr\n",
    "\n",
    "f, ax = plt.subplots(figsize=(15, 10))\n",
    "plt.title(\"\\nPearson correlation of numeric features\\n\", size=24)\n",
    "sns.heatmap(df_corr, annot=True, annot_kws={'size': 14},\n",
    "            cmap=sns.diverging_palette(220, 20, n=11))"
   ]
  },
  {
   "cell_type": "markdown",
   "metadata": {},
   "source": [
    "We can see that there are strong correlations between four pairs of features."
   ]
  },
  {
   "cell_type": "markdown",
   "metadata": {},
   "source": [
    "Let's look at pair plots of the strongly correlated variables. This way we can gain insight into the linear correlations between the features."
   ]
  },
  {
   "cell_type": "code",
   "execution_count": 34,
   "metadata": {},
   "outputs": [
    {
     "data": {
      "image/png": "[encoded data removed]",
      "text/plain": [
       "<matplotlib.figure.Figure at 0x1a16ec5ef0>"
      ]
     },
     "metadata": {},
     "output_type": "display_data"
    }
   ],
   "source": [
    "sns.lmplot(x='ps_reg_01', y='ps_reg_02', data=df_cleaned.sample(frac=0.1), hue='target', palette='Set1', scatter_kws={'alpha':0.3})\n",
    "plt.show()"
   ]
  },
  {
   "cell_type": "code",
   "execution_count": 35,
   "metadata": {},
   "outputs": [
    {
     "data": {
      "image/png": "[encoded data removed]",
      "text/plain": [
       "<matplotlib.figure.Figure at 0x1a197127f0>"
      ]
     },
     "metadata": {},
     "output_type": "display_data"
    }
   ],
   "source": [
    "sns.lmplot(x='ps_car_12', y='ps_car_13', data=df_cleaned.sample(frac=0.1), hue='target', palette='Set1', scatter_kws={'alpha':0.3})\n",
    "plt.show()"
   ]
  },
  {
   "cell_type": "code",
   "execution_count": 36,
   "metadata": {},
   "outputs": [
    {
     "data": {
      "image/png": "[encoded data removed]",
      "text/plain": [
       "<matplotlib.figure.Figure at 0x1a1774d908>"
      ]
     },
     "metadata": {},
     "output_type": "display_data"
    }
   ],
   "source": [
    "sns.lmplot(x='ps_car_13', y='ps_car_15', data=df_cleaned.sample(frac=0.1), hue='target', palette='Set1', scatter_kws={'alpha':0.3})\n",
    "plt.show()"
   ]
  },
  {
   "cell_type": "markdown",
   "metadata": {},
   "source": [
    "#### Numerical features of ordinal type"
   ]
  },
  {
   "cell_type": "code",
   "execution_count": 29,
   "metadata": {},
   "outputs": [
    {
     "data": {
      "text/plain": [
       "<matplotlib.axes._subplots.AxesSubplot at 0x1a14a12a58>"
      ]
     },
     "execution_count": 29,
     "metadata": {},
     "output_type": "execute_result"
    },
    {
     "data": {
      "image/png": "[encoded data removed]",
      "text/plain": [
       "<matplotlib.figure.Figure at 0x1a1847be80>"
      ]
     },
     "metadata": {},
     "output_type": "display_data"
    }
   ],
   "source": [
    "df_ordinal = df_cleaned[num_feats_cleaned].select_dtypes(include=['int'])\n",
    "df_corr = df_ordinal.corr().abs()\n",
    "filter = (df_corr == 1) | (df_corr < 0.1)\n",
    "# We can filter out values by setting them to 0\n",
    "df_corr[filter] = 0\n",
    "df_corr\n",
    "\n",
    "f, ax = plt.subplots(figsize=(15, 10))\n",
    "plt.title(\"\\nPearson correlation of orindal features\\n\", size=24)\n",
    "sns.heatmap(df_corr, annot=True, annot_kws={'size': 14},\n",
    "            cmap=sns.diverging_palette(220, 20, n=11))"
   ]
  },
  {
   "cell_type": "markdown",
   "metadata": {},
   "source": [
    "The correlations are very small, so not worthy of consideration."
   ]
  },
  {
   "cell_type": "markdown",
   "metadata": {},
   "source": [
    "Let's now check the correlations between all numerical features and the target variables. We can use the **pointbiserialr** tool from scipy.stats to check the correlation between the numerical values of the features and the binary values of the target. The pointbiserialr method returns the correlation and the p-value. If the p-value is more than 0.05 for any given correlation, we cannot reject a null-hypothesis and should consider eliminating the feature, as it has a negligible impact on the target variable."
   ]
  },
  {
   "cell_type": "code",
   "execution_count": 34,
   "metadata": {},
   "outputs": [
    {
     "name": "stdout",
     "output_type": "stream",
     "text": [
      "PS_CAR_11  | Correlation:  -0.00121335689622 | P-value:  0.349220144637\n",
      "PS_CALC_01  | Correlation:  0.00178195465192 | P-value:  0.169200922734\n",
      "PS_CALC_02  | Correlation:  0.00135968897833 | P-value:  0.294178988979\n",
      "PS_CALC_03  | Correlation:  0.00190697359641 | P-value:  0.141229448762\n",
      "PS_CALC_04  | Correlation:  3.27204551002e-05 | P-value:  0.979860521763\n",
      "PS_CALC_05  | Correlation:  0.000770880136533 | P-value:  0.552022133573\n",
      "PS_CALC_06  | Correlation:  8.18222597807e-05 | P-value:  0.949666387392\n",
      "PS_CALC_07  | Correlation:  -0.000103476904853 | P-value:  0.936370675865\n",
      "PS_CALC_08  | Correlation:  -0.00100585483842 | P-value:  0.43773988648\n",
      "PS_CALC_09  | Correlation:  0.000718967584364 | P-value:  0.579111997695\n",
      "PS_CALC_10  | Correlation:  0.00106083404448 | P-value:  0.413110667262\n",
      "PS_CALC_11  | Correlation:  0.000371437394891 | P-value:  0.774446720276\n",
      "PS_CALC_12  | Correlation:  -0.00113258539814 | P-value:  0.382233773313\n",
      "PS_CALC_13  | Correlation:  -0.000446464531809 | P-value:  0.730510442941\n",
      "PS_CALC_14  | Correlation:  0.00136227534312 | P-value:  0.2932615811\n"
     ]
    }
   ],
   "source": [
    "# check correlation between cols and target\n",
    "num_weak_corr = []\n",
    "for col in num_feats_cleaned:\n",
    "    corr, p = pointbiserialr(df_cleaned[col], df_cleaned['target'])\n",
    "    if p > .05:\n",
    "        print(col.upper(), ' | Correlation: ', corr, '| P-value: ', p)\n",
    "        num_weak_corr.append(col)"
   ]
  },
  {
   "cell_type": "markdown",
   "metadata": {},
   "source": [
    "#### Categorical features\n",
    "For checking correlation between the categorical features and the target variable, we can create a crosstab table using Pandas and apply the **Chi-squared** tool to determine a p-value. Once again, if the p-value is more than 0.05, then we could reject that feature."
   ]
  },
  {
   "cell_type": "code",
   "execution_count": 35,
   "metadata": {},
   "outputs": [
    {
     "name": "stdout",
     "output_type": "stream",
     "text": [
      "PS_CAR_10_CAT  | Chi2:  0.648974774486  | p-value:  0.722897825327\n"
     ]
    }
   ],
   "source": [
    "cat_weak_corr = []\n",
    "for col in cat_feats_cleaned:\n",
    "    crosstab = pd.crosstab( df['target'], df_cleaned[col],  rownames = ['target'] , colnames =['feature'])\n",
    "    chi2, p, dof, ex = chi2_contingency(crosstab, correction=False)\n",
    "    if p > 0.05:\n",
    "        print(col.upper(), ' | Chi2: ', chi2, ' | p-value: ', p)\n",
    "        cat_weak_corr.append(col)"
   ]
  },
  {
   "cell_type": "markdown",
   "metadata": {},
   "source": [
    "It appears that all but one of the categorical features are worth keeping."
   ]
  },
  {
   "cell_type": "markdown",
   "metadata": {},
   "source": [
    "#### Binary features\n",
    "We can do the same for the binary variables as we did for the categorical variables."
   ]
  },
  {
   "cell_type": "code",
   "execution_count": 36,
   "metadata": {},
   "outputs": [
    {
     "name": "stdout",
     "output_type": "stream",
     "text": [
      "PS_IND_10_BIN  | Chi2:  1.49083915207  | p-value:  0.222086306306\n",
      "PS_IND_11_BIN  | Chi2:  2.19212980726  | p-value:  0.138717387178\n",
      "PS_IND_13_BIN  | Chi2:  3.18877595278  | p-value:  0.0741455110366\n",
      "PS_CALC_15_BIN  | Chi2:  0.135285302885  | p-value:  0.713013790073\n",
      "PS_CALC_16_BIN  | Chi2:  0.224798128543  | p-value:  0.635408055174\n",
      "PS_CALC_17_BIN  | Chi2:  0.01544956754  | p-value:  0.901080685209\n",
      "PS_CALC_18_BIN  | Chi2:  0.17519257769  | p-value:  0.675537637115\n",
      "PS_CALC_19_BIN  | Chi2:  1.79054056273  | p-value:  0.180860314623\n",
      "PS_CALC_20_BIN  | Chi2:  0.668511486963  | p-value:  0.413571052218\n"
     ]
    }
   ],
   "source": [
    "bin_weak_corr = []\n",
    "for col in bin_feats_cleaned:\n",
    "    crosstab = pd.crosstab( df['target'], df_cleaned[col],  rownames = ['target'] , colnames =['feature'])\n",
    "    chi2, p, dof, ex = chi2_contingency(crosstab)\n",
    "    if p > 0.05:\n",
    "        print(col.upper(), ' | Chi2: ', chi2, ' | p-value: ', p)\n",
    "        bin_weak_corr.append(col)"
   ]
  },
  {
   "cell_type": "markdown",
   "metadata": {},
   "source": [
    "#### Using classification tools\n",
    "Another approach is to use a classication tool - such as random forest - to determine the importance of each feature. We can achieve this by fitting a model and then calling the feature_importances method."
   ]
  },
  {
   "cell_type": "code",
   "execution_count": 44,
   "metadata": {},
   "outputs": [
    {
     "name": "stdout",
     "output_type": "stream",
     "text": [
      "--- COMPLETE ---\n"
     ]
    }
   ],
   "source": [
    "# Sets up a classifier and fits a model to all features of the dataset\n",
    "clf = RandomForestClassifier(n_estimators=150, max_depth=8, min_samples_leaf=4, max_features=0.2, n_jobs=-1, random_state=0)\n",
    "clf.fit(df_cleaned.drop(['id', 'target'],axis=1), df_cleaned['target'])\n",
    "# We need a list of features as well\n",
    "features = df_cleaned.drop(['id', 'target'],axis=1).columns.values\n",
    "print(\"--- COMPLETE ---\")"
   ]
  },
  {
   "cell_type": "code",
   "execution_count": null,
   "metadata": {},
   "outputs": [],
   "source": [
    "joblib.dump(clf, 'clf_model.pkl')"
   ]
  },
  {
   "cell_type": "markdown",
   "metadata": {},
   "source": [
    "Using the following code from Anisotropic's kernal (https://www.kaggle.com/arthurtok/interactive-porto-insights-a-plot-ly-tutorial), we can use Plotly to create a nice horizontal bar chart for visualising the ranking of most important features."
   ]
  },
  {
   "cell_type": "code",
   "execution_count": 45,
   "metadata": {},
   "outputs": [
    {
     "data": {
      "application/vnd.plotly.v1+json": {
       "data": [
        {
         "marker": {
          "autocolorscale": false,
          "cauto": true,
          "cmax": 0.13032006235175117,
          "cmin": 0.0004533877730213222,
          "color": [
           0.0004533877730213222,
           0.0006460916034376979,
           0.0009927570899321528,
           0.001219740216832661,
           0.0014285080252929932,
           0.0018541024626263318,
           0.0019206891670274636,
           0.002056190269227489,
           0.0022954722206159337,
           0.0023121971655239077,
           0.0024005531775609925,
           0.002469839203614708,
           0.0024956049564518134,
           0.00399984903099515,
           0.004290937907089702,
           0.004758745723084001,
           0.006905113534903271,
           0.00763091654122125,
           0.00799392062641656,
           0.008943002148355417,
           0.009126738249879873,
           0.009127596879642104,
           0.009479447124167008,
           0.010361580013471164,
           0.010625716266990801,
           0.010824672668055684,
           0.011212777765870147,
           0.011556177821371505,
           0.011567464199590599,
           0.01163133549259835,
           0.011915802636146276,
           0.014136835308916549,
           0.014620273515749732,
           0.014643247160390702,
           0.015325039237679172,
           0.015616519382794885,
           0.015951580291255416,
           0.016527446994109074,
           0.01740024753449976,
           0.017557655676259477,
           0.018428389864267248,
           0.018805526354166144,
           0.01886901520477714,
           0.022031042058383396,
           0.025511353707039726,
           0.026901319477553684,
           0.02702621832565347,
           0.029166347241481858,
           0.029470570916513564,
           0.034766148111220814,
           0.038674467676286295,
           0.039983658814561,
           0.058260045823570306,
           0.07538151481447342,
           0.08012854619563191,
           0.13032006235175117
          ],
          "colorscale": [
           [
            0,
            "rgb(220,220,220)"
           ],
           [
            0.2,
            "rgb(245,195,157)"
           ],
           [
            0.4,
            "rgb(245,160,105)"
           ],
           [
            1,
            "rgb(178,10,28)"
           ]
          ],
          "reversescale": true
         },
         "name": "Random Forest Feature importance",
         "orientation": "h",
         "type": "bar",
         "uid": "04cb45",
         "x": [
          0.0004533877730213222,
          0.0006460916034376979,
          0.0009927570899321528,
          0.001219740216832661,
          0.0014285080252929932,
          0.0018541024626263318,
          0.0019206891670274636,
          0.002056190269227489,
          0.0022954722206159337,
          0.0023121971655239077,
          0.0024005531775609925,
          0.002469839203614708,
          0.0024956049564518134,
          0.00399984903099515,
          0.004290937907089702,
          0.004758745723084001,
          0.006905113534903271,
          0.00763091654122125,
          0.00799392062641656,
          0.008943002148355417,
          0.009126738249879873,
          0.009127596879642104,
          0.009479447124167008,
          0.010361580013471164,
          0.010625716266990801,
          0.010824672668055684,
          0.011212777765870147,
          0.011556177821371505,
          0.011567464199590599,
          0.01163133549259835,
          0.011915802636146276,
          0.014136835308916549,
          0.014620273515749732,
          0.014643247160390702,
          0.015325039237679172,
          0.015616519382794885,
          0.015951580291255416,
          0.016527446994109074,
          0.01740024753449976,
          0.017557655676259477,
          0.018428389864267248,
          0.018805526354166144,
          0.01886901520477714,
          0.022031042058383396,
          0.025511353707039726,
          0.026901319477553684,
          0.02702621832565347,
          0.029166347241481858,
          0.029470570916513564,
          0.034766148111220814,
          0.038674467676286295,
          0.039983658814561,
          0.058260045823570306,
          0.07538151481447342,
          0.08012854619563191,
          0.13032006235175117
         ],
         "y": [
          "ps_ind_10_bin",
          "ps_ind_13_bin",
          "ps_ind_11_bin",
          "ps_ind_12_bin",
          "ps_calc_15_bin",
          "ps_calc_20_bin",
          "ps_ind_18_bin",
          "ps_car_10_cat",
          "ps_calc_18_bin",
          "ps_ind_14",
          "ps_calc_16_bin",
          "ps_calc_19_bin",
          "ps_calc_17_bin",
          "ps_ind_09_bin",
          "ps_car_08_cat",
          "ps_ind_08_bin",
          "ps_car_11",
          "ps_calc_04",
          "ps_car_05_cat",
          "ps_calc_09",
          "ps_car_09_cat",
          "ps_calc_06",
          "ps_calc_12",
          "ps_car_02_cat",
          "ps_calc_07",
          "ps_calc_05",
          "ps_calc_13",
          "ps_calc_02",
          "ps_calc_08",
          "ps_calc_01",
          "ps_calc_03",
          "ps_ind_02_cat",
          "ps_car_06_cat",
          "ps_car_11_cat",
          "ps_ind_16_bin",
          "ps_calc_14",
          "ps_reg_01",
          "ps_calc_11",
          "ps_ind_04_cat",
          "ps_ind_01",
          "ps_calc_10",
          "ps_ind_06_bin",
          "ps_car_15",
          "ps_ind_07_bin",
          "ps_car_12",
          "ps_car_01_cat",
          "ps_ind_15",
          "ps_car_14",
          "ps_car_04_cat",
          "ps_car_07_cat",
          "ps_ind_03",
          "ps_reg_02",
          "ps_ind_17_bin",
          "ps_reg_03",
          "ps_ind_05_cat",
          "ps_car_13"
         ]
        }
       ],
       "layout": {
        "height": 1500,
        "title": "Ranking of most influential features",
        "width": 900,
        "xaxis": {
         "autorange": true,
         "range": [
          0,
          0.13717901300184335
         ],
         "type": "linear"
        },
        "yaxis": {
         "autorange": true,
         "range": [
          -0.5,
          55.5
         ],
         "showgrid": false,
         "showline": false,
         "showticklabels": true,
         "type": "category"
        }
       }
      },
      "text/html": [
       "<div id=\"e67004db-e8f7-4f5b-9905-5b9632891f8c\" style=\"height: 1500px; width: 900px;\" class=\"plotly-graph-div\"></div><script type=\"text/javascript\">require([\"plotly\"], function(Plotly) { window.PLOTLYENV=window.PLOTLYENV || {};window.PLOTLYENV.BASE_URL=\"https://plot.ly\";Plotly.newPlot(\"e67004db-e8f7-4f5b-9905-5b9632891f8c\", [{\"type\": \"bar\", \"x\": [0.0004533877730213222, 0.0006460916034376979, 0.0009927570899321528, 0.001219740216832661, 0.0014285080252929932, 0.0018541024626263318, 0.0019206891670274636, 0.002056190269227489, 0.0022954722206159337, 0.0023121971655239077, 0.0024005531775609925, 0.002469839203614708, 0.0024956049564518134, 0.00399984903099515, 0.004290937907089702, 0.004758745723084001, 0.006905113534903271, 0.00763091654122125, 0.00799392062641656, 0.008943002148355417, 0.009126738249879873, 0.009127596879642104, 0.009479447124167008, 0.010361580013471164, 0.010625716266990801, 0.010824672668055684, 0.011212777765870147, 0.011556177821371505, 0.011567464199590599, 0.01163133549259835, 0.011915802636146276, 0.014136835308916549, 0.014620273515749732, 0.014643247160390702, 0.015325039237679172, 0.015616519382794885, 0.015951580291255416, 0.016527446994109074, 0.01740024753449976, 0.017557655676259477, 0.018428389864267248, 0.018805526354166144, 0.01886901520477714, 0.022031042058383396, 0.025511353707039726, 0.026901319477553684, 0.02702621832565347, 0.029166347241481858, 0.029470570916513564, 0.034766148111220814, 0.038674467676286295, 0.039983658814561, 0.058260045823570306, 0.07538151481447342, 0.08012854619563191, 0.13032006235175117], \"y\": [\"ps_ind_10_bin\", \"ps_ind_13_bin\", \"ps_ind_11_bin\", \"ps_ind_12_bin\", \"ps_calc_15_bin\", \"ps_calc_20_bin\", \"ps_ind_18_bin\", \"ps_car_10_cat\", \"ps_calc_18_bin\", \"ps_ind_14\", \"ps_calc_16_bin\", \"ps_calc_19_bin\", \"ps_calc_17_bin\", \"ps_ind_09_bin\", \"ps_car_08_cat\", \"ps_ind_08_bin\", \"ps_car_11\", \"ps_calc_04\", \"ps_car_05_cat\", \"ps_calc_09\", \"ps_car_09_cat\", \"ps_calc_06\", \"ps_calc_12\", \"ps_car_02_cat\", \"ps_calc_07\", \"ps_calc_05\", \"ps_calc_13\", \"ps_calc_02\", \"ps_calc_08\", \"ps_calc_01\", \"ps_calc_03\", \"ps_ind_02_cat\", \"ps_car_06_cat\", \"ps_car_11_cat\", \"ps_ind_16_bin\", \"ps_calc_14\", \"ps_reg_01\", \"ps_calc_11\", \"ps_ind_04_cat\", \"ps_ind_01\", \"ps_calc_10\", \"ps_ind_06_bin\", \"ps_car_15\", \"ps_ind_07_bin\", \"ps_car_12\", \"ps_car_01_cat\", \"ps_ind_15\", \"ps_car_14\", \"ps_car_04_cat\", \"ps_car_07_cat\", \"ps_ind_03\", \"ps_reg_02\", \"ps_ind_17_bin\", \"ps_reg_03\", \"ps_ind_05_cat\", \"ps_car_13\"], \"marker\": {\"color\": [0.0004533877730213222, 0.0006460916034376979, 0.0009927570899321528, 0.001219740216832661, 0.0014285080252929932, 0.0018541024626263318, 0.0019206891670274636, 0.002056190269227489, 0.0022954722206159337, 0.0023121971655239077, 0.0024005531775609925, 0.002469839203614708, 0.0024956049564518134, 0.00399984903099515, 0.004290937907089702, 0.004758745723084001, 0.006905113534903271, 0.00763091654122125, 0.00799392062641656, 0.008943002148355417, 0.009126738249879873, 0.009127596879642104, 0.009479447124167008, 0.010361580013471164, 0.010625716266990801, 0.010824672668055684, 0.011212777765870147, 0.011556177821371505, 0.011567464199590599, 0.01163133549259835, 0.011915802636146276, 0.014136835308916549, 0.014620273515749732, 0.014643247160390702, 0.015325039237679172, 0.015616519382794885, 0.015951580291255416, 0.016527446994109074, 0.01740024753449976, 0.017557655676259477, 0.018428389864267248, 0.018805526354166144, 0.01886901520477714, 0.022031042058383396, 0.025511353707039726, 0.026901319477553684, 0.02702621832565347, 0.029166347241481858, 0.029470570916513564, 0.034766148111220814, 0.038674467676286295, 0.039983658814561, 0.058260045823570306, 0.07538151481447342, 0.08012854619563191, 0.13032006235175117], \"colorscale\": null, \"reversescale\": true}, \"name\": \"Random Forest Feature importance\", \"orientation\": \"h\"}], {\"title\": \"Ranking of most influential features\", \"width\": 900, \"height\": 1500, \"yaxis\": {\"showgrid\": false, \"showline\": false, \"showticklabels\": true}}, {\"showLink\": true, \"linkText\": \"Export to plot.ly\"})});</script>"
      ],
      "text/vnd.plotly.v1+html": [
       "<div id=\"e67004db-e8f7-4f5b-9905-5b9632891f8c\" style=\"height: 1500px; width: 900px;\" class=\"plotly-graph-div\"></div><script type=\"text/javascript\">require([\"plotly\"], function(Plotly) { window.PLOTLYENV=window.PLOTLYENV || {};window.PLOTLYENV.BASE_URL=\"https://plot.ly\";Plotly.newPlot(\"e67004db-e8f7-4f5b-9905-5b9632891f8c\", [{\"type\": \"bar\", \"x\": [0.0004533877730213222, 0.0006460916034376979, 0.0009927570899321528, 0.001219740216832661, 0.0014285080252929932, 0.0018541024626263318, 0.0019206891670274636, 0.002056190269227489, 0.0022954722206159337, 0.0023121971655239077, 0.0024005531775609925, 0.002469839203614708, 0.0024956049564518134, 0.00399984903099515, 0.004290937907089702, 0.004758745723084001, 0.006905113534903271, 0.00763091654122125, 0.00799392062641656, 0.008943002148355417, 0.009126738249879873, 0.009127596879642104, 0.009479447124167008, 0.010361580013471164, 0.010625716266990801, 0.010824672668055684, 0.011212777765870147, 0.011556177821371505, 0.011567464199590599, 0.01163133549259835, 0.011915802636146276, 0.014136835308916549, 0.014620273515749732, 0.014643247160390702, 0.015325039237679172, 0.015616519382794885, 0.015951580291255416, 0.016527446994109074, 0.01740024753449976, 0.017557655676259477, 0.018428389864267248, 0.018805526354166144, 0.01886901520477714, 0.022031042058383396, 0.025511353707039726, 0.026901319477553684, 0.02702621832565347, 0.029166347241481858, 0.029470570916513564, 0.034766148111220814, 0.038674467676286295, 0.039983658814561, 0.058260045823570306, 0.07538151481447342, 0.08012854619563191, 0.13032006235175117], \"y\": [\"ps_ind_10_bin\", \"ps_ind_13_bin\", \"ps_ind_11_bin\", \"ps_ind_12_bin\", \"ps_calc_15_bin\", \"ps_calc_20_bin\", \"ps_ind_18_bin\", \"ps_car_10_cat\", \"ps_calc_18_bin\", \"ps_ind_14\", \"ps_calc_16_bin\", \"ps_calc_19_bin\", \"ps_calc_17_bin\", \"ps_ind_09_bin\", \"ps_car_08_cat\", \"ps_ind_08_bin\", \"ps_car_11\", \"ps_calc_04\", \"ps_car_05_cat\", \"ps_calc_09\", \"ps_car_09_cat\", \"ps_calc_06\", \"ps_calc_12\", \"ps_car_02_cat\", \"ps_calc_07\", \"ps_calc_05\", \"ps_calc_13\", \"ps_calc_02\", \"ps_calc_08\", \"ps_calc_01\", \"ps_calc_03\", \"ps_ind_02_cat\", \"ps_car_06_cat\", \"ps_car_11_cat\", \"ps_ind_16_bin\", \"ps_calc_14\", \"ps_reg_01\", \"ps_calc_11\", \"ps_ind_04_cat\", \"ps_ind_01\", \"ps_calc_10\", \"ps_ind_06_bin\", \"ps_car_15\", \"ps_ind_07_bin\", \"ps_car_12\", \"ps_car_01_cat\", \"ps_ind_15\", \"ps_car_14\", \"ps_car_04_cat\", \"ps_car_07_cat\", \"ps_ind_03\", \"ps_reg_02\", \"ps_ind_17_bin\", \"ps_reg_03\", \"ps_ind_05_cat\", \"ps_car_13\"], \"marker\": {\"color\": [0.0004533877730213222, 0.0006460916034376979, 0.0009927570899321528, 0.001219740216832661, 0.0014285080252929932, 0.0018541024626263318, 0.0019206891670274636, 0.002056190269227489, 0.0022954722206159337, 0.0023121971655239077, 0.0024005531775609925, 0.002469839203614708, 0.0024956049564518134, 0.00399984903099515, 0.004290937907089702, 0.004758745723084001, 0.006905113534903271, 0.00763091654122125, 0.00799392062641656, 0.008943002148355417, 0.009126738249879873, 0.009127596879642104, 0.009479447124167008, 0.010361580013471164, 0.010625716266990801, 0.010824672668055684, 0.011212777765870147, 0.011556177821371505, 0.011567464199590599, 0.01163133549259835, 0.011915802636146276, 0.014136835308916549, 0.014620273515749732, 0.014643247160390702, 0.015325039237679172, 0.015616519382794885, 0.015951580291255416, 0.016527446994109074, 0.01740024753449976, 0.017557655676259477, 0.018428389864267248, 0.018805526354166144, 0.01886901520477714, 0.022031042058383396, 0.025511353707039726, 0.026901319477553684, 0.02702621832565347, 0.029166347241481858, 0.029470570916513564, 0.034766148111220814, 0.038674467676286295, 0.039983658814561, 0.058260045823570306, 0.07538151481447342, 0.08012854619563191, 0.13032006235175117], \"colorscale\": null, \"reversescale\": true}, \"name\": \"Random Forest Feature importance\", \"orientation\": \"h\"}], {\"title\": \"Ranking of most influential features\", \"width\": 900, \"height\": 1500, \"yaxis\": {\"showgrid\": false, \"showline\": false, \"showticklabels\": true}}, {\"showLink\": true, \"linkText\": \"Export to plot.ly\"})});</script>"
      ]
     },
     "metadata": {},
     "output_type": "display_data"
    }
   ],
   "source": [
    "x, y = (list(x) for x in zip(*sorted(zip(clf.feature_importances_, features), \n",
    "                                                            reverse = False)))\n",
    "trace2 = go.Bar(\n",
    "    x=x ,\n",
    "    y=y,\n",
    "    marker=dict(\n",
    "        color=x,\n",
    "        colorscale = None,\n",
    "        reversescale = True\n",
    "    ),\n",
    "    name='Random Forest Feature importance',\n",
    "    orientation='h',\n",
    ")\n",
    "\n",
    "layout = dict(\n",
    "    title='Ranking of most influential features',\n",
    "     width = 900, height = 1500,\n",
    "    yaxis=dict(\n",
    "        showgrid=False,\n",
    "        showline=False,\n",
    "        showticklabels=True,\n",
    "    ))\n",
    "\n",
    "fig1 = go.Figure(data=[trace2])\n",
    "fig1['layout'].update(layout)\n",
    "py.iplot(fig1, filename='plots')"
   ]
  },
  {
   "cell_type": "markdown",
   "metadata": {},
   "source": [
    "### Feature selection"
   ]
  },
  {
   "cell_type": "markdown",
   "metadata": {},
   "source": [
    "I would like to select only the features that have the greatest impact according to the graph above, with a combination of all features types."
   ]
  },
  {
   "cell_type": "code",
   "execution_count": 54,
   "metadata": {},
   "outputs": [],
   "source": [
    "feats_to_keep = ['ps_ind_06_bin',\n",
    "                     'ps_car_15',\n",
    "                     'ps_ind_07_bin',\n",
    "                     'ps_car_12',\n",
    "                     'ps_car_01_cat',\n",
    "                     'ps_ind_15',\n",
    "                     'ps_car_14',\n",
    "                     'ps_car_04_cat',\n",
    "                     'ps_car_07_cat',\n",
    "                     'ps_ind_03',\n",
    "                     'ps_reg_02',\n",
    "                     'ps_ind_17_bin',\n",
    "                     'ps_reg_03',\n",
    "                     'ps_ind_05_cat',\n",
    "                     'ps_car_13']"
   ]
  },
  {
   "cell_type": "code",
   "execution_count": 96,
   "metadata": {},
   "outputs": [
    {
     "name": "stdout",
     "output_type": "stream",
     "text": [
      "--- Numerical features --- :  \n",
      " ['ps_car_15', 'ps_car_12', 'ps_ind_15', 'ps_car_14', 'ps_ind_03', 'ps_reg_02', 'ps_reg_03', 'ps_car_13'] \n",
      "\n",
      "--- Categorical features --- :  \n",
      " ['ps_car_01_cat', 'ps_car_04_cat', 'ps_car_07_cat', 'ps_ind_05_cat'] \n",
      "\n",
      "--- Binary features --- :  \n",
      " ['ps_ind_06_bin', 'ps_ind_07_bin', 'ps_ind_17_bin'] \n",
      "\n"
     ]
    }
   ],
   "source": [
    "# create new dataframe with only selected features, target and id\n",
    "df_select_feats = df_cleaned[['id', 'target'] + feats_to_keep]\n",
    "\n",
    "# separate col names into categories\n",
    "num_feats_to_keep, cat_feats_to_keep, bin_feats_to_keep = [], [], []\n",
    "\n",
    "for col in feats_to_keep:\n",
    "    if col == 'id' or col == 'target':\n",
    "        pass\n",
    "    elif '_cat' in col:\n",
    "        cat_feats_to_keep.append(col)\n",
    "    elif '_bin' in col:\n",
    "        bin_feats_to_keep.append(col)\n",
    "    else:\n",
    "        num_feats_to_keep.append(col)\n",
    "        \n",
    "print('--- Numerical features --- : ', '\\n', num_feats_to_keep, '\\n')\n",
    "print('--- Categorical features --- : ', '\\n', cat_feats_to_keep, '\\n')\n",
    "print('--- Binary features --- : ', '\\n', bin_feats_to_keep, '\\n')"
   ]
  },
  {
   "cell_type": "code",
   "execution_count": 49,
   "metadata": {},
   "outputs": [],
   "source": [
    "# # Removing the features that have weak correlations\n",
    "# df_select_features.drop(columns=num_weak_corr + cat_weak_corr + bin_weak_corr, inplace=True)\n",
    "\n",
    "# # The columns lists need to be updated as well\n",
    "# for i in num_weak_corr: num_feats_selected.remove(i)\n",
    "# for i in cat_weak_corr: cat_feats_selected.remove(i)\n",
    "# for i in bin_weak_corr: bin_feats_selected.remove(i)"
   ]
  },
  {
   "cell_type": "markdown",
   "metadata": {},
   "source": [
    "### Feature engineering\n",
    "We still need to deal with the categorical variables because they cannot read in as they are. We need to create dummy variables for each feature. This will greatly increase the number of features that we have, so I would like to minimize these features if I can."
   ]
  },
  {
   "cell_type": "code",
   "execution_count": 97,
   "metadata": {},
   "outputs": [],
   "source": [
    "df_engineered = df_select_feats.copy()"
   ]
  },
  {
   "cell_type": "markdown",
   "metadata": {},
   "source": [
    "We can check how many categories there are for each feature. This way we know which features are going to result in the most additional features after converting them to dummy variables."
   ]
  },
  {
   "cell_type": "code",
   "execution_count": 98,
   "metadata": {},
   "outputs": [
    {
     "data": {
      "text/plain": [
       "ps_car_01_cat    13\n",
       "ps_car_04_cat    10\n",
       "ps_car_07_cat     3\n",
       "ps_ind_05_cat     8\n",
       "dtype: int64"
      ]
     },
     "execution_count": 98,
     "metadata": {},
     "output_type": "execute_result"
    }
   ],
   "source": [
    "df_engineered[cat_feats_to_keep].nunique()"
   ]
  },
  {
   "cell_type": "code",
   "execution_count": 99,
   "metadata": {},
   "outputs": [],
   "source": [
    "# convert cat feats to dummy variables (0s and 1s)\n",
    "cat_dummy_df = pd.get_dummies(df_engineered[cat_feats_to_keep].astype(str))\n",
    "# replacing original cat cols with new dummie cols\n",
    "df_engineered = pd.concat([df_engineered, cat_dummy_df], axis=1).drop(columns=cat_feats_to_keep)"
   ]
  },
  {
   "cell_type": "code",
   "execution_count": 108,
   "metadata": {},
   "outputs": [
    {
     "data": {
      "text/plain": [
       "(595212, 47)"
      ]
     },
     "execution_count": 108,
     "metadata": {},
     "output_type": "execute_result"
    }
   ],
   "source": [
    "df_engineered.shape"
   ]
  },
  {
   "cell_type": "markdown",
   "metadata": {},
   "source": [
    "### Class balancing\n",
    "Before going into feature scaling, I would like to check out the ratio of ones to zeros in the target variable. The reason I want to do this is because I already know that there is a very large class imbalance. We would not expect half of the people who are insured to lodge a claim. "
   ]
  },
  {
   "cell_type": "code",
   "execution_count": 101,
   "metadata": {},
   "outputs": [
    {
     "data": {
      "text/plain": [
       "0    573518\n",
       "1     21694\n",
       "Name: target, dtype: int64"
      ]
     },
     "execution_count": 101,
     "metadata": {},
     "output_type": "execute_result"
    }
   ],
   "source": [
    "df_engineered['target'].value_counts()"
   ]
  },
  {
   "cell_type": "markdown",
   "metadata": {},
   "source": [
    "Sure enough, there are many more zeros. We can either over-sample (duplicate the training examples corresponding to the ones) or under-sample (remove training examples corresponding to the zeros)."
   ]
  },
  {
   "cell_type": "code",
   "execution_count": 102,
   "metadata": {},
   "outputs": [
    {
     "name": "stdout",
     "output_type": "stream",
     "text": [
      "Ratio of ones to zeros:  3.78261885416  %\n"
     ]
    }
   ],
   "source": [
    "# number of zeros\n",
    "num_zeros = (df_engineered['target'] == 0).sum()\n",
    "# number of ones\n",
    "num_ones = (df_engineered['target'] == 1).sum()\n",
    "# difference in the number of zeros and ones\n",
    "diff = num_zeros - num_ones\n",
    "# ratios\n",
    "ones_to_zeros = num_ones / num_zeros\n",
    "zeros_to_ones = num_zeros / num_ones\n",
    "print('Ratio of ones to zeros: ', ones_to_zeros * 100, ' %')"
   ]
  },
  {
   "cell_type": "markdown",
   "metadata": {},
   "source": [
    "#### Sampling from examples with a target of zero\n",
    "I would like to select a sample that makes up half of the original length of the dataset."
   ]
  },
  {
   "cell_type": "code",
   "execution_count": 126,
   "metadata": {},
   "outputs": [],
   "source": [
    "df_zeros = df_engineered[df_engineered['target'] == 0]\n",
    "df_zeros_sample = df_zeros.sample(n=int(rows / 2), random_state=42)\n",
    "df_zeros_sample.reset_index(inplace=True, drop=True)"
   ]
  },
  {
   "cell_type": "code",
   "execution_count": 127,
   "metadata": {},
   "outputs": [
    {
     "data": {
      "text/html": [
       "<div>\n",
       "<style scoped>\n",
       "    .dataframe tbody tr th:only-of-type {\n",
       "        vertical-align: middle;\n",
       "    }\n",
       "\n",
       "    .dataframe tbody tr th {\n",
       "        vertical-align: top;\n",
       "    }\n",
       "\n",
       "    .dataframe thead th {\n",
       "        text-align: right;\n",
       "    }\n",
       "</style>\n",
       "<table border=\"1\" class=\"dataframe\">\n",
       "  <thead>\n",
       "    <tr style=\"text-align: right;\">\n",
       "      <th></th>\n",
       "      <th>id</th>\n",
       "      <th>target</th>\n",
       "      <th>ps_ind_06_bin</th>\n",
       "      <th>ps_car_15</th>\n",
       "      <th>ps_ind_07_bin</th>\n",
       "      <th>ps_car_12</th>\n",
       "      <th>ps_ind_15</th>\n",
       "      <th>ps_car_14</th>\n",
       "      <th>ps_ind_03</th>\n",
       "      <th>ps_reg_02</th>\n",
       "      <th>...</th>\n",
       "      <th>ps_car_07_cat_0</th>\n",
       "      <th>ps_car_07_cat_1</th>\n",
       "      <th>ps_ind_05_cat_-1</th>\n",
       "      <th>ps_ind_05_cat_0</th>\n",
       "      <th>ps_ind_05_cat_1</th>\n",
       "      <th>ps_ind_05_cat_2</th>\n",
       "      <th>ps_ind_05_cat_3</th>\n",
       "      <th>ps_ind_05_cat_4</th>\n",
       "      <th>ps_ind_05_cat_5</th>\n",
       "      <th>ps_ind_05_cat_6</th>\n",
       "    </tr>\n",
       "  </thead>\n",
       "  <tbody>\n",
       "    <tr>\n",
       "      <th>0</th>\n",
       "      <td>465947</td>\n",
       "      <td>0</td>\n",
       "      <td>1</td>\n",
       "      <td>0.00000</td>\n",
       "      <td>0</td>\n",
       "      <td>0.62498</td>\n",
       "      <td>5</td>\n",
       "      <td>0.42249</td>\n",
       "      <td>3</td>\n",
       "      <td>0.20000</td>\n",
       "      <td>...</td>\n",
       "      <td>0</td>\n",
       "      <td>1</td>\n",
       "      <td>0</td>\n",
       "      <td>1</td>\n",
       "      <td>0</td>\n",
       "      <td>0</td>\n",
       "      <td>0</td>\n",
       "      <td>0</td>\n",
       "      <td>0</td>\n",
       "      <td>0</td>\n",
       "    </tr>\n",
       "    <tr>\n",
       "      <th>1</th>\n",
       "      <td>381915</td>\n",
       "      <td>0</td>\n",
       "      <td>0</td>\n",
       "      <td>3.74166</td>\n",
       "      <td>0</td>\n",
       "      <td>0.31623</td>\n",
       "      <td>6</td>\n",
       "      <td>0.28879</td>\n",
       "      <td>9</td>\n",
       "      <td>0.50000</td>\n",
       "      <td>...</td>\n",
       "      <td>0</td>\n",
       "      <td>1</td>\n",
       "      <td>0</td>\n",
       "      <td>1</td>\n",
       "      <td>0</td>\n",
       "      <td>0</td>\n",
       "      <td>0</td>\n",
       "      <td>0</td>\n",
       "      <td>0</td>\n",
       "      <td>0</td>\n",
       "    </tr>\n",
       "    <tr>\n",
       "      <th>2</th>\n",
       "      <td>1060494</td>\n",
       "      <td>0</td>\n",
       "      <td>1</td>\n",
       "      <td>3.46410</td>\n",
       "      <td>0</td>\n",
       "      <td>0.40000</td>\n",
       "      <td>8</td>\n",
       "      <td>0.40743</td>\n",
       "      <td>7</td>\n",
       "      <td>0.80000</td>\n",
       "      <td>...</td>\n",
       "      <td>0</td>\n",
       "      <td>1</td>\n",
       "      <td>0</td>\n",
       "      <td>1</td>\n",
       "      <td>0</td>\n",
       "      <td>0</td>\n",
       "      <td>0</td>\n",
       "      <td>0</td>\n",
       "      <td>0</td>\n",
       "      <td>0</td>\n",
       "    </tr>\n",
       "    <tr>\n",
       "      <th>3</th>\n",
       "      <td>469383</td>\n",
       "      <td>0</td>\n",
       "      <td>0</td>\n",
       "      <td>3.00000</td>\n",
       "      <td>1</td>\n",
       "      <td>0.37417</td>\n",
       "      <td>13</td>\n",
       "      <td>0.38210</td>\n",
       "      <td>8</td>\n",
       "      <td>0.40000</td>\n",
       "      <td>...</td>\n",
       "      <td>0</td>\n",
       "      <td>1</td>\n",
       "      <td>0</td>\n",
       "      <td>1</td>\n",
       "      <td>0</td>\n",
       "      <td>0</td>\n",
       "      <td>0</td>\n",
       "      <td>0</td>\n",
       "      <td>0</td>\n",
       "      <td>0</td>\n",
       "    </tr>\n",
       "    <tr>\n",
       "      <th>4</th>\n",
       "      <td>491496</td>\n",
       "      <td>0</td>\n",
       "      <td>1</td>\n",
       "      <td>3.74166</td>\n",
       "      <td>0</td>\n",
       "      <td>0.40000</td>\n",
       "      <td>12</td>\n",
       "      <td>0.30968</td>\n",
       "      <td>2</td>\n",
       "      <td>0.20000</td>\n",
       "      <td>...</td>\n",
       "      <td>0</td>\n",
       "      <td>1</td>\n",
       "      <td>0</td>\n",
       "      <td>1</td>\n",
       "      <td>0</td>\n",
       "      <td>0</td>\n",
       "      <td>0</td>\n",
       "      <td>0</td>\n",
       "      <td>0</td>\n",
       "      <td>0</td>\n",
       "    </tr>\n",
       "  </tbody>\n",
       "</table>\n",
       "<p>5 rows × 47 columns</p>\n",
       "</div>"
      ],
      "text/plain": [
       "        id  target  ps_ind_06_bin  ps_car_15  ps_ind_07_bin  ps_car_12  \\\n",
       "0   465947       0              1    0.00000              0    0.62498   \n",
       "1   381915       0              0    3.74166              0    0.31623   \n",
       "2  1060494       0              1    3.46410              0    0.40000   \n",
       "3   469383       0              0    3.00000              1    0.37417   \n",
       "4   491496       0              1    3.74166              0    0.40000   \n",
       "\n",
       "   ps_ind_15  ps_car_14  ps_ind_03  ps_reg_02       ...         \\\n",
       "0          5    0.42249          3    0.20000       ...          \n",
       "1          6    0.28879          9    0.50000       ...          \n",
       "2          8    0.40743          7    0.80000       ...          \n",
       "3         13    0.38210          8    0.40000       ...          \n",
       "4         12    0.30968          2    0.20000       ...          \n",
       "\n",
       "   ps_car_07_cat_0  ps_car_07_cat_1  ps_ind_05_cat_-1  ps_ind_05_cat_0  \\\n",
       "0                0                1                 0                1   \n",
       "1                0                1                 0                1   \n",
       "2                0                1                 0                1   \n",
       "3                0                1                 0                1   \n",
       "4                0                1                 0                1   \n",
       "\n",
       "   ps_ind_05_cat_1  ps_ind_05_cat_2  ps_ind_05_cat_3  ps_ind_05_cat_4  \\\n",
       "0                0                0                0                0   \n",
       "1                0                0                0                0   \n",
       "2                0                0                0                0   \n",
       "3                0                0                0                0   \n",
       "4                0                0                0                0   \n",
       "\n",
       "   ps_ind_05_cat_5  ps_ind_05_cat_6  \n",
       "0                0                0  \n",
       "1                0                0  \n",
       "2                0                0  \n",
       "3                0                0  \n",
       "4                0                0  \n",
       "\n",
       "[5 rows x 47 columns]"
      ]
     },
     "execution_count": 127,
     "metadata": {},
     "output_type": "execute_result"
    }
   ],
   "source": [
    "df_zeros_sample.head()"
   ]
  },
  {
   "cell_type": "markdown",
   "metadata": {},
   "source": [
    "#### Duplicating examples with a target of one\n",
    "I will duplicate all of the examples corresponding to ones."
   ]
  },
  {
   "cell_type": "code",
   "execution_count": 121,
   "metadata": {},
   "outputs": [],
   "source": [
    "df_ones = df_engineered[df_engineered['target'] == 1]\n",
    "# Adds duplicates of the ones set until half of the dataset is occupied\n",
    "df_ones_dup = pd.DataFrame()\n",
    "for i in range(int((rows / 2) / num_ones)):\n",
    "    df_ones_dup = df_ones_dup.append(df_ones)"
   ]
  },
  {
   "cell_type": "markdown",
   "metadata": {},
   "source": [
    "#### Combining examples into one dataset"
   ]
  },
  {
   "cell_type": "code",
   "execution_count": 128,
   "metadata": {},
   "outputs": [],
   "source": [
    "df_rebalanced = pd.concat([df_zeros_sample, df_ones_dup])\n",
    "df_rebalanced = df_rebalanced.sample(frac=1).reset_index(drop=True)"
   ]
  },
  {
   "cell_type": "code",
   "execution_count": 129,
   "metadata": {},
   "outputs": [
    {
     "data": {
      "text/plain": [
       "(579628, 47)"
      ]
     },
     "execution_count": 129,
     "metadata": {},
     "output_type": "execute_result"
    }
   ],
   "source": [
    "df_rebalanced.shape"
   ]
  },
  {
   "cell_type": "markdown",
   "metadata": {},
   "source": [
    "The number of rows is similar to what we started with."
   ]
  },
  {
   "cell_type": "markdown",
   "metadata": {},
   "source": [
    "### Feature scaling\n",
    "Scaling features tends to lead to a performance improvement with classification problems, so we will do it here."
   ]
  },
  {
   "cell_type": "code",
   "execution_count": 130,
   "metadata": {},
   "outputs": [],
   "source": [
    "df_scaled = df_rebalanced.copy()\n",
    "df_scaled.drop(columns=['target', 'id'], inplace=True)\n",
    "# Set up scaler and create a scaled input matrix\n",
    "scaler = MinMaxScaler()\n",
    "# MinMaxScalar outputs data as a numpy array (which is necessary for XGBoost)\n",
    "X_scaled = scaler.fit_transform(df_scaled)"
   ]
  },
  {
   "cell_type": "markdown",
   "metadata": {},
   "source": [
    "### Training and Evaluation\n",
    "Now we can split the data up into train and test sets, fit classification models to the train set and finally try to classify examples from the test set and observe the resulting accuracy."
   ]
  },
  {
   "cell_type": "code",
   "execution_count": 150,
   "metadata": {},
   "outputs": [
    {
     "name": "stdout",
     "output_type": "stream",
     "text": [
      "\n",
      "++++++++++++++ LogReg ++++++++++++++\n",
      "\n",
      "\n",
      "--- Training model using LogReg ---\n",
      "=== DONE ===\n",
      "\n",
      "\n",
      "              precision    recall  f1-score   support\n",
      "\n",
      "          0       0.59      0.67      0.62     59588\n",
      "          1       0.59      0.50      0.54     56338\n",
      "\n",
      "avg / total       0.59      0.59      0.58    115926\n",
      " \n",
      "\n"
     ]
    },
    {
     "data": {
      "image/png": "[encoded data removed]",
      "text/plain": [
       "<matplotlib.figure.Figure at 0x1a22ddd668>"
      ]
     },
     "metadata": {},
     "output_type": "display_data"
    },
    {
     "name": "stdout",
     "output_type": "stream",
     "text": [
      "======================================\n",
      "\n",
      "\n",
      "++++++++++++++ XGBoost ++++++++++++++\n",
      "\n",
      "\n",
      "--- Training model using XGBoost ---\n",
      "=== DONE ===\n",
      "\n",
      "\n",
      "              precision    recall  f1-score   support\n",
      "\n",
      "          0       0.60      0.67      0.63     59588\n",
      "          1       0.60      0.52      0.56     56338\n",
      "\n",
      "avg / total       0.60      0.60      0.60    115926\n",
      " \n",
      "\n"
     ]
    },
    {
     "data": {
      "image/png": "[encoded data removed]",
      "text/plain": [
       "<matplotlib.figure.Figure at 0x1a4a8cdf98>"
      ]
     },
     "metadata": {},
     "output_type": "display_data"
    },
    {
     "name": "stdout",
     "output_type": "stream",
     "text": [
      "======================================\n",
      "\n"
     ]
    }
   ],
   "source": [
    "X = X_scaled\n",
    "# y needs to be converted to an array\n",
    "y = df_rebalanced['target'].as_matrix()\n",
    "# split up the data and target values\n",
    "X_train, X_test, y_train, y_test = train_test_split(X, y, test_size=0.2)\n",
    "\n",
    "models = []\n",
    "models.append(('LogReg', LogisticRegression()))\n",
    "models.append(('XGBoost', XGBClassifier()))\n",
    "\n",
    "for name, model in models:\n",
    "    print('\\n++++++++++++++ {} ++++++++++++++\\n'.format(name))\n",
    "\n",
    "    # Train model\n",
    "    print('\\n--- Training model using {} ---'.format(name))\n",
    "    model.fit(X_train, y_train)\n",
    "    print('=== DONE ===\\n')\n",
    "    \n",
    "    # Save model\n",
    "    joblib.dump(model, '{}_model_trained.pkl'.format(name))\n",
    "    \n",
    "    # Make predictions on the test-set\n",
    "    y_pred = model.predict(X_test)\n",
    "\n",
    "    # Classification report\n",
    "    report = classification_report(y_test, y_pred)\n",
    "    print('\\n', report, '\\n')\n",
    "\n",
    "    # Plotting cumulative gains chart (lift curve)\n",
    "    predicted_probas = LogReg_model.predict_proba(X_test)\n",
    "    skplt.metrics.plot_cumulative_gain(y_test, predicted_probas)\n",
    "    plt.show()\n",
    "    \n",
    "    print('======================================\\n')"
   ]
  }
 ],
 "metadata": {
  "kernelspec": {
   "display_name": "Python 3",
   "language": "python",
   "name": "python3"
  },
  "language_info": {
   "codemirror_mode": {
    "name": "ipython",
    "version": 3
   },
   "file_extension": ".py",
   "mimetype": "text/x-python",
   "name": "python",
   "nbconvert_exporter": "python",
   "pygments_lexer": "ipython3",
   "version": "3.6.4"
  }
 },
 "nbformat": 4,
 "nbformat_minor": 2
}
